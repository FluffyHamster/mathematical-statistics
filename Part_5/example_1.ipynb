{
 "cells": [
  {
   "cell_type": "markdown",
   "metadata": {},
   "source": [
    "# Критерий Пирсона\n",
    "\n",
    "1. Разбиваем всю облость значений случайной величины $X$ на $m$ интервалов $\\Delta_{1}, \\Delta_{2}, ..., \\Delta_{m}$\n",
    "2. Подсчитываем вероятности $p_{i}  (i = 1, 2, ..., m)$ поподания случайной величины $X$ (т.е. наблюдения) в интервал, используя формулу $P(\\alpha \\leq X \\leq \\beta) = F_{0}(\\beta) - F_{0}(\\alpha)$ \n",
    "3. Теоретические число значений случайной величины $X$, попавших в интервал $\\Delta_{i}$, можно рассчитать по формуле: $n \\cdot p_{i}$\n",
    "\n",
    "Т.о. получаем статистический ряд распределения случайной величины $X$ и теоретический ряд распределения\n",
    "\n",
    "4. Если эмпирические частоты ($n_{i}$) сильно отличается от теоритических ($np_{i} = n^{'}_{i}$), то проверяемую нулевую гипотезу следует отвергнуть; в противном случае принять.\n",
    "\n",
    "Согласно теореме Пирсона, при $n \\rightarrow \\infty$ статистика имеет $\\chi^{2}$ - распределение с $k = m - r - 1$ степенями свободы, \n",
    "\n",
    "где $m$ - число групп (интервалов) выборки, $r$ - число параметров предпологаемего распределения.\n",
    "    \n",
    "В частности, если предпологаемое распределение нормально, то оценивают два параметра ($\\alpha$ и $\\sigma$), поэтому степеней свободы $k = m - 3$\n",
    "\n",
    "## Правило применения критерия $\\chi^{2}$:\n",
    "\n",
    "1. Вычисляем выборочное значение статистики критерия:\n",
    "\n",
    "$\\chi^{2} = \\sum^{m}_{i=1} \\dfrac{(n_{i} - np_{i})^{2}}{np_{i}} = \\sum^{m}_{i=1} \\dfrac{n^{2}_{i}}{np_{i}} - n$\n",
    "\n",
    "2. Выбрав уровень значимости $\\alpha$ критерия, по таблице $\\chi^{2}$ - распределения находим критическую точку (квантиль) $\\chi^{2}_{\\alpha,k}$.\n",
    "3. Если $\\chi^{2} \\leqslant \\chi^{2}_{\\alpha,k}$, то нулевая гипотеза не противоречит опытным данным, иначе нулевая гипотеза отвергается.\n",
    "\n",
    "**Необходимым условием применения критерия Пирсона, является наличие в каждом из интервалов не менее 5 наблюдений**"
   ]
  },
  {
   "cell_type": "code",
   "execution_count": 1,
   "metadata": {},
   "outputs": [],
   "source": [
    "import pandas as pd"
   ]
  },
  {
   "cell_type": "markdown",
   "metadata": {},
   "source": [
    "## Задание"
   ]
  },
  {
   "cell_type": "code",
   "execution_count": 2,
   "metadata": {},
   "outputs": [
    {
     "data": {
      "text/html": [
       "<div>\n",
       "<style scoped>\n",
       "    .dataframe tbody tr th:only-of-type {\n",
       "        vertical-align: middle;\n",
       "    }\n",
       "\n",
       "    .dataframe tbody tr th {\n",
       "        vertical-align: top;\n",
       "    }\n",
       "\n",
       "    .dataframe thead th {\n",
       "        text-align: right;\n",
       "    }\n",
       "</style>\n",
       "<table border=\"1\" class=\"dataframe\">\n",
       "  <thead>\n",
       "    <tr style=\"text-align: right;\">\n",
       "      <th></th>\n",
       "      <th>[x_{i}, x_{i+1})</th>\n",
       "      <th>n_i</th>\n",
       "    </tr>\n",
       "  </thead>\n",
       "  <tbody>\n",
       "    <tr>\n",
       "      <th>0</th>\n",
       "      <td>[-3, -2]</td>\n",
       "      <td>3</td>\n",
       "    </tr>\n",
       "    <tr>\n",
       "      <th>1</th>\n",
       "      <td>[-2, -1]</td>\n",
       "      <td>10</td>\n",
       "    </tr>\n",
       "    <tr>\n",
       "      <th>2</th>\n",
       "      <td>[-1, 0]</td>\n",
       "      <td>15</td>\n",
       "    </tr>\n",
       "    <tr>\n",
       "      <th>3</th>\n",
       "      <td>[0, 1]</td>\n",
       "      <td>24</td>\n",
       "    </tr>\n",
       "    <tr>\n",
       "      <th>4</th>\n",
       "      <td>[1, 2]</td>\n",
       "      <td>25</td>\n",
       "    </tr>\n",
       "    <tr>\n",
       "      <th>5</th>\n",
       "      <td>[2, 3]</td>\n",
       "      <td>13</td>\n",
       "    </tr>\n",
       "    <tr>\n",
       "      <th>6</th>\n",
       "      <td>[3, 4]</td>\n",
       "      <td>7</td>\n",
       "    </tr>\n",
       "    <tr>\n",
       "      <th>7</th>\n",
       "      <td>[4, 5]</td>\n",
       "      <td>3</td>\n",
       "    </tr>\n",
       "  </tbody>\n",
       "</table>\n",
       "</div>"
      ],
      "text/plain": [
       "  [x_{i}, x_{i+1})  n_i\n",
       "0         [-3, -2]    3\n",
       "1         [-2, -1]   10\n",
       "2          [-1, 0]   15\n",
       "3           [0, 1]   24\n",
       "4           [1, 2]   25\n",
       "5           [2, 3]   13\n",
       "6           [3, 4]    7\n",
       "7           [4, 5]    3"
      ]
     },
     "execution_count": 2,
     "metadata": {},
     "output_type": "execute_result"
    }
   ],
   "source": [
    "# Измерены 100 обработанных деталей, отклонения от заданного размера приведены в таблице:\n",
    "n = 100\n",
    "df = pd.DataFrame({\"[x_{i}, x_{i+1})\":[[-3, -2], [-2, -1], [-1, 0], [0, 1], [1, 2], [2, 3], [3, 4], [4, 5]], \"n_i\": [3, 10, 15, 24, 25, 13, 7, 3]})\n",
    "\n",
    "alpha = 0.01\n",
    "\n",
    "# Нулевая гипотеза - отклонения от проектного размера подчиняются нормальному закону распределения\n",
    "df"
   ]
  },
  {
   "cell_type": "markdown",
   "metadata": {},
   "source": [
    "## Решение\n",
    "Число набдюдений с крайних интервалах меньше 5, поэтому объединяем их с соседними"
   ]
  },
  {
   "cell_type": "code",
   "execution_count": 5,
   "metadata": {},
   "outputs": [
    {
     "data": {
      "text/html": [
       "<div>\n",
       "<style scoped>\n",
       "    .dataframe tbody tr th:only-of-type {\n",
       "        vertical-align: middle;\n",
       "    }\n",
       "\n",
       "    .dataframe tbody tr th {\n",
       "        vertical-align: top;\n",
       "    }\n",
       "\n",
       "    .dataframe thead th {\n",
       "        text-align: right;\n",
       "    }\n",
       "</style>\n",
       "<table border=\"1\" class=\"dataframe\">\n",
       "  <thead>\n",
       "    <tr style=\"text-align: right;\">\n",
       "      <th></th>\n",
       "      <th>interval</th>\n",
       "      <th>n_i</th>\n",
       "    </tr>\n",
       "  </thead>\n",
       "  <tbody>\n",
       "    <tr>\n",
       "      <th>0</th>\n",
       "      <td>[-3, -2, -1]</td>\n",
       "      <td>13</td>\n",
       "    </tr>\n",
       "    <tr>\n",
       "      <th>1</th>\n",
       "      <td>[-1, 0]</td>\n",
       "      <td>15</td>\n",
       "    </tr>\n",
       "    <tr>\n",
       "      <th>2</th>\n",
       "      <td>[0, 1]</td>\n",
       "      <td>24</td>\n",
       "    </tr>\n",
       "    <tr>\n",
       "      <th>3</th>\n",
       "      <td>[1, 2]</td>\n",
       "      <td>25</td>\n",
       "    </tr>\n",
       "    <tr>\n",
       "      <th>4</th>\n",
       "      <td>[2, 3]</td>\n",
       "      <td>13</td>\n",
       "    </tr>\n",
       "    <tr>\n",
       "      <th>5</th>\n",
       "      <td>[3, 4, 5]</td>\n",
       "      <td>10</td>\n",
       "    </tr>\n",
       "  </tbody>\n",
       "</table>\n",
       "</div>"
      ],
      "text/plain": [
       "       interval  n_i\n",
       "0  [-3, -2, -1]   13\n",
       "1       [-1, 0]   15\n",
       "2        [0, 1]   24\n",
       "3        [1, 2]   25\n",
       "4        [2, 3]   13\n",
       "5     [3, 4, 5]   10"
      ]
     },
     "execution_count": 5,
     "metadata": {},
     "output_type": "execute_result"
    }
   ],
   "source": [
    "df_new = pd.DataFrame({\"interval\":[[-3, -2, -1], [-1, 0], [0, 1], [1, 2], [2, 3], [3, 4, 5]], \"n_i\": [13, 15, 24, 25, 13, 10]})\n",
    "df_new"
   ]
  },
  {
   "cell_type": "markdown",
   "metadata": {},
   "source": [
    "Случайную величину - отклонение - обозначаем через **X**. Для вычисления вероятностей $p_{i}$ необходимо вычислить параметры, определяющие нормальный закон распределения ($\\alpha$ и $\\sigma$). их оценки вычисляем по выборке:"
   ]
  },
  {
   "cell_type": "code",
   "execution_count": null,
   "metadata": {},
   "outputs": [],
   "source": []
  },
  {
   "cell_type": "code",
   "execution_count": 30,
   "metadata": {},
   "outputs": [
    {
     "data": {
      "text/html": [
       "<div>\n",
       "<style scoped>\n",
       "    .dataframe tbody tr th:only-of-type {\n",
       "        vertical-align: middle;\n",
       "    }\n",
       "\n",
       "    .dataframe tbody tr th {\n",
       "        vertical-align: top;\n",
       "    }\n",
       "\n",
       "    .dataframe thead th {\n",
       "        text-align: right;\n",
       "    }\n",
       "</style>\n",
       "<table border=\"1\" class=\"dataframe\">\n",
       "  <thead>\n",
       "    <tr style=\"text-align: right;\">\n",
       "      <th></th>\n",
       "      <th>interval</th>\n",
       "      <th>n_i</th>\n",
       "      <th>x_mean</th>\n",
       "    </tr>\n",
       "  </thead>\n",
       "  <tbody>\n",
       "    <tr>\n",
       "      <th>0</th>\n",
       "      <td>[-3, -2, -1]</td>\n",
       "      <td>13</td>\n",
       "      <td>-2.0</td>\n",
       "    </tr>\n",
       "    <tr>\n",
       "      <th>1</th>\n",
       "      <td>[-1, 0]</td>\n",
       "      <td>15</td>\n",
       "      <td>-0.5</td>\n",
       "    </tr>\n",
       "    <tr>\n",
       "      <th>2</th>\n",
       "      <td>[0, 1]</td>\n",
       "      <td>24</td>\n",
       "      <td>0.5</td>\n",
       "    </tr>\n",
       "    <tr>\n",
       "      <th>3</th>\n",
       "      <td>[1, 2]</td>\n",
       "      <td>25</td>\n",
       "      <td>1.5</td>\n",
       "    </tr>\n",
       "    <tr>\n",
       "      <th>4</th>\n",
       "      <td>[2, 3]</td>\n",
       "      <td>13</td>\n",
       "      <td>2.5</td>\n",
       "    </tr>\n",
       "    <tr>\n",
       "      <th>5</th>\n",
       "      <td>[3, 4, 5]</td>\n",
       "      <td>10</td>\n",
       "      <td>4.0</td>\n",
       "    </tr>\n",
       "  </tbody>\n",
       "</table>\n",
       "</div>"
      ],
      "text/plain": [
       "       interval  n_i  x_mean\n",
       "0  [-3, -2, -1]   13    -2.0\n",
       "1       [-1, 0]   15    -0.5\n",
       "2        [0, 1]   24     0.5\n",
       "3        [1, 2]   25     1.5\n",
       "4        [2, 3]   13     2.5\n",
       "5     [3, 4, 5]   10     4.0"
      ]
     },
     "execution_count": 30,
     "metadata": {},
     "output_type": "execute_result"
    }
   ],
   "source": [
    "def X_Mean(column):    \n",
    "    x_mean = []\n",
    "    \n",
    "    for i in range(column.size):\n",
    "        x_sum = 0\n",
    "        j = 0\n",
    "        for x_i in column[i]:\n",
    "            x_sum = x_sum + x_i\n",
    "            j = j + 1\n",
    "        \n",
    "        x_mean.append(x_sum / j)\n",
    "    \n",
    "    return x_mean   \n",
    "\n",
    "\n",
    "df_new[\"x_mean\"] = X_Mean(df_new.interval)\n",
    "df_new"
   ]
  },
  {
   "cell_type": "code",
   "execution_count": 54,
   "metadata": {},
   "outputs": [
    {
     "data": {
      "text/plain": [
       "0.885"
      ]
     },
     "execution_count": 54,
     "metadata": {},
     "output_type": "execute_result"
    }
   ],
   "source": [
    "x = 1 / n * (df_new.n_i * df_new.x_mean).sum()\n",
    "x"
   ]
  },
  {
   "cell_type": "markdown",
   "metadata": {},
   "source": [
    "$x \\approx 0.9$"
   ]
  },
  {
   "cell_type": "code",
   "execution_count": 58,
   "metadata": {},
   "outputs": [
    {
     "data": {
      "text/plain": [
       "2.8092750000000004"
      ]
     },
     "execution_count": 58,
     "metadata": {},
     "output_type": "execute_result"
    }
   ],
   "source": [
    "D_B = 1/n * (df_new.n_i * df_new.x_mean ** 2).sum() - x ** 2\n",
    "D_B"
   ]
  },
  {
   "cell_type": "markdown",
   "metadata": {},
   "source": [
    "$D_{B} \\approx 2.809$"
   ]
  },
  {
   "cell_type": "code",
   "execution_count": 59,
   "metadata": {},
   "outputs": [
    {
     "data": {
      "text/plain": [
       "1.6760891981037287"
      ]
     },
     "execution_count": 59,
     "metadata": {},
     "output_type": "execute_result"
    }
   ],
   "source": [
    "import math \n",
    "sigma =  math.sqrt(D_B)\n",
    "sigma"
   ]
  },
  {
   "cell_type": "markdown",
   "metadata": {},
   "source": [
    "$\\sigma \\approx 1.7$\n",
    "\n",
    "Находим $p_{i}, (i = \\overline{1,6})$. Так как $X \\sim N(\\alpha, \\sigma)$ определена на $(-\\infty, \\infty)$, то крайние интервалы в ряде распределения заменяем, соответственно на $(-\\infty, -1)$ и $(3, \\infty)$. \n",
    "\n",
    "Тогда \n",
    "\n",
    "$p_{1} = p\\{-\\infty < X < -1 \\} = \\Phi_{0}(\\dfrac{-1-0.9}{1.7}) - \\Phi_{0}(-\\infty) = 0.5 - \\Phi(1.12)$ \n",
    "\n",
    "$p_{6} = p\\{-\\infty < X < -1 \\} = \\Phi_{0}(\\infty) -  \\Phi_{0}(\\dfrac{3-0.9}{1.7}) = 0.5 - \\Phi(1.24)$ "
   ]
  },
  {
   "cell_type": "code",
   "execution_count": 85,
   "metadata": {},
   "outputs": [
    {
     "data": {
      "text/plain": [
       "-1"
      ]
     },
     "execution_count": 85,
     "metadata": {},
     "output_type": "execute_result"
    }
   ],
   "source": [
    "df_new.interval[0][-1]"
   ]
  },
  {
   "cell_type": "code",
   "execution_count": 92,
   "metadata": {},
   "outputs": [
    {
     "data": {
      "text/html": [
       "<div>\n",
       "<style scoped>\n",
       "    .dataframe tbody tr th:only-of-type {\n",
       "        vertical-align: middle;\n",
       "    }\n",
       "\n",
       "    .dataframe tbody tr th {\n",
       "        vertical-align: top;\n",
       "    }\n",
       "\n",
       "    .dataframe thead th {\n",
       "        text-align: right;\n",
       "    }\n",
       "</style>\n",
       "<table border=\"1\" class=\"dataframe\">\n",
       "  <thead>\n",
       "    <tr style=\"text-align: right;\">\n",
       "      <th></th>\n",
       "      <th>interval</th>\n",
       "      <th>n_i</th>\n",
       "      <th>x_mean</th>\n",
       "      <th>F_left</th>\n",
       "      <th>F_right</th>\n",
       "    </tr>\n",
       "  </thead>\n",
       "  <tbody>\n",
       "    <tr>\n",
       "      <th>0</th>\n",
       "      <td>[-3, -2, -1]</td>\n",
       "      <td>13</td>\n",
       "      <td>-2.0</td>\n",
       "      <td>-1.12</td>\n",
       "      <td>-0.50</td>\n",
       "    </tr>\n",
       "    <tr>\n",
       "      <th>1</th>\n",
       "      <td>[-1, 0]</td>\n",
       "      <td>15</td>\n",
       "      <td>-0.5</td>\n",
       "      <td>-0.53</td>\n",
       "      <td>-1.12</td>\n",
       "    </tr>\n",
       "    <tr>\n",
       "      <th>2</th>\n",
       "      <td>[0, 1]</td>\n",
       "      <td>24</td>\n",
       "      <td>0.5</td>\n",
       "      <td>0.07</td>\n",
       "      <td>-0.53</td>\n",
       "    </tr>\n",
       "    <tr>\n",
       "      <th>3</th>\n",
       "      <td>[1, 2]</td>\n",
       "      <td>25</td>\n",
       "      <td>1.5</td>\n",
       "      <td>0.67</td>\n",
       "      <td>0.07</td>\n",
       "    </tr>\n",
       "    <tr>\n",
       "      <th>4</th>\n",
       "      <td>[2, 3]</td>\n",
       "      <td>13</td>\n",
       "      <td>2.5</td>\n",
       "      <td>1.26</td>\n",
       "      <td>0.67</td>\n",
       "    </tr>\n",
       "    <tr>\n",
       "      <th>5</th>\n",
       "      <td>[3, 4, 5]</td>\n",
       "      <td>10</td>\n",
       "      <td>4.0</td>\n",
       "      <td>0.50</td>\n",
       "      <td>1.26</td>\n",
       "    </tr>\n",
       "  </tbody>\n",
       "</table>\n",
       "</div>"
      ],
      "text/plain": [
       "       interval  n_i  x_mean  F_left  F_right\n",
       "0  [-3, -2, -1]   13    -2.0   -1.12    -0.50\n",
       "1       [-1, 0]   15    -0.5   -0.53    -1.12\n",
       "2        [0, 1]   24     0.5    0.07    -0.53\n",
       "3        [1, 2]   25     1.5    0.67     0.07\n",
       "4        [2, 3]   13     2.5    1.26     0.67\n",
       "5     [3, 4, 5]   10     4.0    0.50     1.26"
      ]
     },
     "execution_count": 92,
     "metadata": {},
     "output_type": "execute_result"
    }
   ],
   "source": [
    "def F_left(column, x, sigma):\n",
    "    F = []\n",
    "    for i in range(column.size):\n",
    "        if i == (column.size - 1):\n",
    "            F.append(0.5)\n",
    "        else:\n",
    "            F.append((column[i][-1] - x) / sigma)\n",
    "    return F\n",
    "\n",
    "def F_right(column, x, sigma):\n",
    "    F= []\n",
    "    for i in range(column.size):\n",
    "        if i == 0:\n",
    "            F.append(-0.5)\n",
    "        else:\n",
    "            F.append((column[i][0] - x) / sigma)\n",
    "    return F\n",
    "\n",
    "\n",
    "\n",
    "df_new['F_left'] = [round(i,2) for i in F_left(df_new.interval, x, sigma)]\n",
    "df_new['F_right'] = [round(i,2) for i in F_right(df_new.interval, x, sigma)]\n",
    "\n",
    "df_new\n"
   ]
  },
  {
   "cell_type": "markdown",
   "metadata": {},
   "source": [
    "Результаты F_left и F_right по таблице $\\Phi_{0}$"
   ]
  },
  {
   "cell_type": "code",
   "execution_count": 97,
   "metadata": {},
   "outputs": [
    {
     "data": {
      "text/html": [
       "<div>\n",
       "<style scoped>\n",
       "    .dataframe tbody tr th:only-of-type {\n",
       "        vertical-align: middle;\n",
       "    }\n",
       "\n",
       "    .dataframe tbody tr th {\n",
       "        vertical-align: top;\n",
       "    }\n",
       "\n",
       "    .dataframe thead th {\n",
       "        text-align: right;\n",
       "    }\n",
       "</style>\n",
       "<table border=\"1\" class=\"dataframe\">\n",
       "  <thead>\n",
       "    <tr style=\"text-align: right;\">\n",
       "      <th></th>\n",
       "      <th>F_left</th>\n",
       "      <th>F_right</th>\n",
       "    </tr>\n",
       "  </thead>\n",
       "  <tbody>\n",
       "    <tr>\n",
       "      <th>0</th>\n",
       "      <td>-0.3686</td>\n",
       "      <td>-0.5000</td>\n",
       "    </tr>\n",
       "    <tr>\n",
       "      <th>1</th>\n",
       "      <td>-0.2019</td>\n",
       "      <td>-0.3686</td>\n",
       "    </tr>\n",
       "    <tr>\n",
       "      <th>2</th>\n",
       "      <td>0.0279</td>\n",
       "      <td>-0.2019</td>\n",
       "    </tr>\n",
       "    <tr>\n",
       "      <th>3</th>\n",
       "      <td>0.2486</td>\n",
       "      <td>0.0279</td>\n",
       "    </tr>\n",
       "    <tr>\n",
       "      <th>4</th>\n",
       "      <td>0.3962</td>\n",
       "      <td>0.2486</td>\n",
       "    </tr>\n",
       "    <tr>\n",
       "      <th>5</th>\n",
       "      <td>0.5000</td>\n",
       "      <td>0.3962</td>\n",
       "    </tr>\n",
       "  </tbody>\n",
       "</table>\n",
       "</div>"
      ],
      "text/plain": [
       "   F_left  F_right\n",
       "0 -0.3686  -0.5000\n",
       "1 -0.2019  -0.3686\n",
       "2  0.0279  -0.2019\n",
       "3  0.2486   0.0279\n",
       "4  0.3962   0.2486\n",
       "5  0.5000   0.3962"
      ]
     },
     "execution_count": 97,
     "metadata": {},
     "output_type": "execute_result"
    }
   ],
   "source": [
    "df_F = pd.DataFrame({\"F_left\":[-0.3686, -0.2019, 0.0279, 0.2486, 0.3962, 0.5], \"F_right\":[-0.5, -0.3686, -0.2019, 0.0279, 0.2486, 0.3962]})\n",
    "df_F"
   ]
  },
  {
   "cell_type": "code",
   "execution_count": 99,
   "metadata": {},
   "outputs": [
    {
     "data": {
      "text/html": [
       "<div>\n",
       "<style scoped>\n",
       "    .dataframe tbody tr th:only-of-type {\n",
       "        vertical-align: middle;\n",
       "    }\n",
       "\n",
       "    .dataframe tbody tr th {\n",
       "        vertical-align: top;\n",
       "    }\n",
       "\n",
       "    .dataframe thead th {\n",
       "        text-align: right;\n",
       "    }\n",
       "</style>\n",
       "<table border=\"1\" class=\"dataframe\">\n",
       "  <thead>\n",
       "    <tr style=\"text-align: right;\">\n",
       "      <th></th>\n",
       "      <th>F_left</th>\n",
       "      <th>F_right</th>\n",
       "      <th>difference</th>\n",
       "      <th>np_i</th>\n",
       "    </tr>\n",
       "  </thead>\n",
       "  <tbody>\n",
       "    <tr>\n",
       "      <th>0</th>\n",
       "      <td>-0.3686</td>\n",
       "      <td>-0.5000</td>\n",
       "      <td>0.1314</td>\n",
       "      <td>13.14</td>\n",
       "    </tr>\n",
       "    <tr>\n",
       "      <th>1</th>\n",
       "      <td>-0.2019</td>\n",
       "      <td>-0.3686</td>\n",
       "      <td>0.1667</td>\n",
       "      <td>16.67</td>\n",
       "    </tr>\n",
       "    <tr>\n",
       "      <th>2</th>\n",
       "      <td>0.0279</td>\n",
       "      <td>-0.2019</td>\n",
       "      <td>0.2298</td>\n",
       "      <td>22.98</td>\n",
       "    </tr>\n",
       "    <tr>\n",
       "      <th>3</th>\n",
       "      <td>0.2486</td>\n",
       "      <td>0.0279</td>\n",
       "      <td>0.2207</td>\n",
       "      <td>22.07</td>\n",
       "    </tr>\n",
       "    <tr>\n",
       "      <th>4</th>\n",
       "      <td>0.3962</td>\n",
       "      <td>0.2486</td>\n",
       "      <td>0.1476</td>\n",
       "      <td>14.76</td>\n",
       "    </tr>\n",
       "    <tr>\n",
       "      <th>5</th>\n",
       "      <td>0.5000</td>\n",
       "      <td>0.3962</td>\n",
       "      <td>0.1038</td>\n",
       "      <td>10.38</td>\n",
       "    </tr>\n",
       "  </tbody>\n",
       "</table>\n",
       "</div>"
      ],
      "text/plain": [
       "   F_left  F_right  difference   np_i\n",
       "0 -0.3686  -0.5000      0.1314  13.14\n",
       "1 -0.2019  -0.3686      0.1667  16.67\n",
       "2  0.0279  -0.2019      0.2298  22.98\n",
       "3  0.2486   0.0279      0.2207  22.07\n",
       "4  0.3962   0.2486      0.1476  14.76\n",
       "5  0.5000   0.3962      0.1038  10.38"
      ]
     },
     "execution_count": 99,
     "metadata": {},
     "output_type": "execute_result"
    }
   ],
   "source": [
    "df_F[\"difference\"] = df_F.F_left - df_F.F_right\n",
    "df_F[\"np_i\"] = n * df_F[\"difference\"]\n",
    "df_F"
   ]
  },
  {
   "cell_type": "markdown",
   "metadata": {},
   "source": [
    "Вычисляем выборочное значение статистики критерия:\n",
    "\n",
    "$\\chi^{2} = \\sum^{m}_{i=1} \\dfrac{(n_{i} - np_{i})^{2}}{np_{i}} = \\sum^{m}_{i=1} \\dfrac{n^{2}_{i}}{np_{i}} - n$"
   ]
  },
  {
   "cell_type": "code",
   "execution_count": 105,
   "metadata": {},
   "outputs": [
    {
     "data": {
      "text/plain": [
       "0.8268272341792624"
      ]
     },
     "execution_count": 105,
     "metadata": {},
     "output_type": "execute_result"
    }
   ],
   "source": [
    "x_2 = sum((df_new.n_i**2)/df_F.np_i) - n\n",
    "x_2"
   ]
  },
  {
   "cell_type": "markdown",
   "metadata": {},
   "source": [
    "Находим число степеней свободы: \n",
    "\n",
    "r = 2\n",
    "m = 6\n",
    "\n",
    "k = 6 - 2 - 1 = 3\n",
    "\n",
    "зная $\\alpha = 0.01$\n",
    "\n",
    "по таблице $\\chi^{2}$-распределения находим $\\chi^2_{\\alpha, k} = 11.3$ \n",
    "\n",
    "$\\chi^{2} < \\chi^{2}_{\\alpha,k}$ следовательно нет оснований отвергнуть проверяемую гипотезу\n"
   ]
  },
  {
   "cell_type": "code",
   "execution_count": null,
   "metadata": {},
   "outputs": [],
   "source": []
  }
 ],
 "metadata": {
  "kernelspec": {
   "display_name": "Python 3",
   "language": "python",
   "name": "python3"
  },
  "language_info": {
   "codemirror_mode": {
    "name": "ipython",
    "version": 3
   },
   "file_extension": ".py",
   "mimetype": "text/x-python",
   "name": "python",
   "nbconvert_exporter": "python",
   "pygments_lexer": "ipython3",
   "version": "3.7.3"
  }
 },
 "nbformat": 4,
 "nbformat_minor": 4
}
