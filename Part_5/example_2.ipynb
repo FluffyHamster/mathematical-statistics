{
 "cells": [
  {
   "cell_type": "markdown",
   "metadata": {},
   "source": [
    "# Критерий Колмогорова\n",
    "\n",
    "Критерий Колмогорова для простой гипотезы является наиболее простым критерием проверки гипотезы о виде закона распределения.\n",
    "Он связывает эмперическую функцию распределения $F^{\\ast}_{n}(x)$ с функцией распределения $F(x)$ непрерывной случайной величины *X*.\n",
    "\n",
    "Выдвигается простая нулевая гипотеза: $F(x) = F_{0}(x), x \\in \\mathbb{R}$\n",
    "\n",
    "Альнернативная гипотеза: $F(x) \\neq F_{0}(x), x \\in \\mathbb{R}$\n",
    "\n",
    "Сущность критерия Колмогорова состоит в том, что вводят в рассмотрение функцию:\n",
    "\n",
    "$D_{n} = max_{-\\infty < x < \\infty} |F^{\\ast}_{n}(x) - F_{0}(x)|$\n",
    "\n",
    "называемой **статистикой Колмагорова**, представляющей собой максимальное отклонение эмперической ф-и распределения от гипотетической ф-и распределения.\n",
    "\n",
    "Колмогоров доказал, что при $n \\rightarrow \\infty$ закон распределения случайной величины $\\sqrt{n} \\cdot D_{n}$ независимо от вида распределения случайной величины *X* стремится к *закону распределения Колмагорова*:\n",
    "\n",
    "$P \\{\\sqrt{n} \\cdot D_{n} < x\\} \\rightarrow K(x)$,\n",
    "\n",
    "где $K(x)$ - ф-я распределения Колмагорова, для которой составлена таблица, ее можно использовать для расчетов уже при $n \\geq 20$\n",
    "\n",
    "Таблица:"
   ]
  },
  {
   "cell_type": "code",
   "execution_count": 1,
   "metadata": {},
   "outputs": [
    {
     "data": {
      "text/html": [
       "<div>\n",
       "<style scoped>\n",
       "    .dataframe tbody tr th:only-of-type {\n",
       "        vertical-align: middle;\n",
       "    }\n",
       "\n",
       "    .dataframe tbody tr th {\n",
       "        vertical-align: top;\n",
       "    }\n",
       "\n",
       "    .dataframe thead th {\n",
       "        text-align: right;\n",
       "    }\n",
       "</style>\n",
       "<table border=\"1\" class=\"dataframe\">\n",
       "  <thead>\n",
       "    <tr style=\"text-align: right;\">\n",
       "      <th></th>\n",
       "      <th>alpha</th>\n",
       "      <th>x_0</th>\n",
       "    </tr>\n",
       "  </thead>\n",
       "  <tbody>\n",
       "    <tr>\n",
       "      <th>0</th>\n",
       "      <td>0.100</td>\n",
       "      <td>1.224</td>\n",
       "    </tr>\n",
       "    <tr>\n",
       "      <th>1</th>\n",
       "      <td>0.050</td>\n",
       "      <td>1.358</td>\n",
       "    </tr>\n",
       "    <tr>\n",
       "      <th>2</th>\n",
       "      <td>0.020</td>\n",
       "      <td>1.520</td>\n",
       "    </tr>\n",
       "    <tr>\n",
       "      <th>3</th>\n",
       "      <td>0.010</td>\n",
       "      <td>1.627</td>\n",
       "    </tr>\n",
       "    <tr>\n",
       "      <th>4</th>\n",
       "      <td>0.001</td>\n",
       "      <td>1.950</td>\n",
       "    </tr>\n",
       "  </tbody>\n",
       "</table>\n",
       "</div>"
      ],
      "text/plain": [
       "   alpha    x_0\n",
       "0  0.100  1.224\n",
       "1  0.050  1.358\n",
       "2  0.020  1.520\n",
       "3  0.010  1.627\n",
       "4  0.001  1.950"
      ]
     },
     "execution_count": 1,
     "metadata": {},
     "output_type": "execute_result"
    }
   ],
   "source": [
    "import pandas as pd\n",
    "\n",
    "K_x = pd.DataFrame({\"alpha\":[0.1, 0.05, 0.02, 0.01, 0.001], \"x_0\":[1.224, 1.358, 1.520, 1.627, 1.950]})\n",
    "\n",
    "K_x"
   ]
  },
  {
   "cell_type": "markdown",
   "metadata": {},
   "source": [
    "Найдем $D_{0}$ такое, что $P(D_{n} > D_{0}) = \\alpha$.\n",
    "\n",
    "Рассмотрим уравнение $K(x) = 1 - \\alpha$. С помощью ф-и Колмагорова найдем корень $x_{0}$ этого ур-я. Тогда по теореме Колмагорова, \n",
    "\n",
    "$P \\{\\sqrt{n} \\cdot D_{n} < x_{0}\\} = 1 - \\alpha, P \\{\\sqrt{n} \\cdot D_{n} > x_{0}\\} = \\alpha$, откуда $D_{0} = \\dfrac{x_{0}}{\\sqrt{n}}$\n",
    "\n",
    "Если $D_{n} < D_{0}$, то нулевую гипотезу нет оснований отвергать, в противном случае ее отвергают."
   ]
  },
  {
   "cell_type": "markdown",
   "metadata": {},
   "source": [
    "## Задание\n",
    "\n",
    "Монету бросали 4040 раз (Бюффон). Получили $n_{1} = 2048$ выпадение герба и $n_{2} = 1992$ выпадений решки. Проверить согласуются ли эти данные с нулевой гипотезой о симметричности монеты ($\\alpha = 0.05$)."
   ]
  },
  {
   "cell_type": "code",
   "execution_count": 2,
   "metadata": {},
   "outputs": [],
   "source": [
    "n = 4040\n",
    "n_1 = 2048\n",
    "n_2 = 1992\n",
    "alpha = 0.05"
   ]
  },
  {
   "cell_type": "markdown",
   "metadata": {},
   "source": [
    "## Решение\n",
    "\n",
    "Случайная величина *X* принимает два значения:\n",
    "\n",
    "- $x_{1} = -1$ (решка)\n",
    "- $x_{2} = 1$ (герб)\n",
    "\n",
    "Нулевая гипотеза: $P \\{ x = -1 \\} = P \\{ x = 1 \\} = \\dfrac{1}{2}$\n",
    "\n",
    "По таблице Колмагорова находим корень ур-я $K(x) = 1 - \\alpha$"
   ]
  },
  {
   "cell_type": "code",
   "execution_count": 14,
   "metadata": {},
   "outputs": [
    {
     "data": {
      "text/plain": [
       "1.358"
      ]
     },
     "execution_count": 14,
     "metadata": {},
     "output_type": "execute_result"
    }
   ],
   "source": [
    "x_0 = K_x.x_0[K_x.alpha == alpha][1]\n",
    "x_0"
   ]
  },
  {
   "cell_type": "code",
   "execution_count": 15,
   "metadata": {},
   "outputs": [
    {
     "data": {
      "text/plain": [
       "0.02136530452916041"
      ]
     },
     "execution_count": 15,
     "metadata": {},
     "output_type": "execute_result"
    }
   ],
   "source": [
    "import math\n",
    "\n",
    "D_0 = x_0 / math.sqrt(n) \n",
    "D_0"
   ]
  },
  {
   "cell_type": "markdown",
   "metadata": {},
   "source": [
    "Для нахождения по выборке $D_{n}$ строим ф-и $F_{0}(x)$ и $F^{\\ast}_{n}(x)$ и вычисляем величину $D_{n} = max_{x} |F^{\\ast}_{n}(x) - F_{0}(x)|$"
   ]
  },
  {
   "cell_type": "code",
   "execution_count": 19,
   "metadata": {},
   "outputs": [
    {
     "data": {
      "text/html": [
       "<div>\n",
       "<style scoped>\n",
       "    .dataframe tbody tr th:only-of-type {\n",
       "        vertical-align: middle;\n",
       "    }\n",
       "\n",
       "    .dataframe tbody tr th {\n",
       "        vertical-align: top;\n",
       "    }\n",
       "\n",
       "    .dataframe thead th {\n",
       "        text-align: right;\n",
       "    }\n",
       "</style>\n",
       "<table border=\"1\" class=\"dataframe\">\n",
       "  <thead>\n",
       "    <tr style=\"text-align: right;\">\n",
       "      <th></th>\n",
       "      <th>x_i</th>\n",
       "      <th>p_i</th>\n",
       "    </tr>\n",
       "  </thead>\n",
       "  <tbody>\n",
       "    <tr>\n",
       "      <th>0</th>\n",
       "      <td>1</td>\n",
       "      <td>0.5</td>\n",
       "    </tr>\n",
       "    <tr>\n",
       "      <th>1</th>\n",
       "      <td>-1</td>\n",
       "      <td>0.5</td>\n",
       "    </tr>\n",
       "  </tbody>\n",
       "</table>\n",
       "</div>"
      ],
      "text/plain": [
       "   x_i  p_i\n",
       "0    1  0.5\n",
       "1   -1  0.5"
      ]
     },
     "execution_count": 19,
     "metadata": {},
     "output_type": "execute_result"
    }
   ],
   "source": [
    "F_0 = pd.DataFrame({\"x_i\":[1, -1], \"p_i\":[0.5, 0.5]})\n",
    "F_0\n"
   ]
  },
  {
   "cell_type": "code",
   "execution_count": 20,
   "metadata": {},
   "outputs": [
    {
     "data": {
      "text/html": [
       "<div>\n",
       "<style scoped>\n",
       "    .dataframe tbody tr th:only-of-type {\n",
       "        vertical-align: middle;\n",
       "    }\n",
       "\n",
       "    .dataframe tbody tr th {\n",
       "        vertical-align: top;\n",
       "    }\n",
       "\n",
       "    .dataframe thead th {\n",
       "        text-align: right;\n",
       "    }\n",
       "</style>\n",
       "<table border=\"1\" class=\"dataframe\">\n",
       "  <thead>\n",
       "    <tr style=\"text-align: right;\">\n",
       "      <th></th>\n",
       "      <th>x_i</th>\n",
       "      <th>n_i</th>\n",
       "      <th>p_*_i</th>\n",
       "    </tr>\n",
       "  </thead>\n",
       "  <tbody>\n",
       "    <tr>\n",
       "      <th>0</th>\n",
       "      <td>1</td>\n",
       "      <td>2048</td>\n",
       "      <td>0.506931</td>\n",
       "    </tr>\n",
       "    <tr>\n",
       "      <th>1</th>\n",
       "      <td>-1</td>\n",
       "      <td>1992</td>\n",
       "      <td>0.493069</td>\n",
       "    </tr>\n",
       "  </tbody>\n",
       "</table>\n",
       "</div>"
      ],
      "text/plain": [
       "   x_i   n_i     p_*_i\n",
       "0    1  2048  0.506931\n",
       "1   -1  1992  0.493069"
      ]
     },
     "execution_count": 20,
     "metadata": {},
     "output_type": "execute_result"
    }
   ],
   "source": [
    "F_n = pd.DataFrame({\"x_i\":[1, -1],\"n_i\":[n_1, n_2]})\n",
    "F_n[\"p_*_i\"] = F_n.n_i / n\n",
    "F_n"
   ]
  },
  {
   "cell_type": "code",
   "execution_count": 31,
   "metadata": {},
   "outputs": [
    {
     "data": {
      "text/plain": [
       "0.007"
      ]
     },
     "execution_count": 31,
     "metadata": {},
     "output_type": "execute_result"
    }
   ],
   "source": [
    "D_n = abs(F_0.p_i - F_n['p_*_i']).max().round(3)\n",
    "D_n"
   ]
  },
  {
   "cell_type": "code",
   "execution_count": 32,
   "metadata": {},
   "outputs": [
    {
     "data": {
      "text/plain": [
       "True"
      ]
     },
     "execution_count": 32,
     "metadata": {},
     "output_type": "execute_result"
    }
   ],
   "source": [
    "D_n < D_0"
   ]
  },
  {
   "cell_type": "markdown",
   "metadata": {},
   "source": [
    "## Вывод:\n",
    "\n",
    "Нет оснований отвергать нулевую гипотезу"
   ]
  },
  {
   "cell_type": "code",
   "execution_count": null,
   "metadata": {},
   "outputs": [],
   "source": []
  }
 ],
 "metadata": {
  "kernelspec": {
   "display_name": "Python 3",
   "language": "python",
   "name": "python3"
  },
  "language_info": {
   "codemirror_mode": {
    "name": "ipython",
    "version": 3
   },
   "file_extension": ".py",
   "mimetype": "text/x-python",
   "name": "python",
   "nbconvert_exporter": "python",
   "pygments_lexer": "ipython3",
   "version": "3.7.3"
  }
 },
 "nbformat": 4,
 "nbformat_minor": 4
}
