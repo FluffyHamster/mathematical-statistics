{
 "cells": [
  {
   "cell_type": "markdown",
   "metadata": {},
   "source": [
    "# Example 3\n",
    "\n",
    "Считая, что зависимость между переменными x и y имеет вид $y=ax^{2}+bx+c$, найти оценки параметров a, b и c методом наименьших квадратов по выборке: \n",
    "```\n",
    "x: 7 | 31| 61| 99| 129| 178| 209 \n",
    "y: 13| 10| 9 | 10| 12 | 20 | 26\n",
    "```"
   ]
  },
  {
   "cell_type": "code",
   "execution_count": 1,
   "metadata": {},
   "outputs": [],
   "source": [
    "import pandas as pd"
   ]
  },
  {
   "cell_type": "code",
   "execution_count": 2,
   "metadata": {},
   "outputs": [
    {
     "data": {
      "text/html": [
       "<div>\n",
       "<style scoped>\n",
       "    .dataframe tbody tr th:only-of-type {\n",
       "        vertical-align: middle;\n",
       "    }\n",
       "\n",
       "    .dataframe tbody tr th {\n",
       "        vertical-align: top;\n",
       "    }\n",
       "\n",
       "    .dataframe thead th {\n",
       "        text-align: right;\n",
       "    }\n",
       "</style>\n",
       "<table border=\"1\" class=\"dataframe\">\n",
       "  <thead>\n",
       "    <tr style=\"text-align: right;\">\n",
       "      <th></th>\n",
       "      <th>x</th>\n",
       "      <th>y</th>\n",
       "    </tr>\n",
       "  </thead>\n",
       "  <tbody>\n",
       "    <tr>\n",
       "      <th>0</th>\n",
       "      <td>7</td>\n",
       "      <td>13</td>\n",
       "    </tr>\n",
       "    <tr>\n",
       "      <th>1</th>\n",
       "      <td>31</td>\n",
       "      <td>10</td>\n",
       "    </tr>\n",
       "    <tr>\n",
       "      <th>2</th>\n",
       "      <td>61</td>\n",
       "      <td>9</td>\n",
       "    </tr>\n",
       "    <tr>\n",
       "      <th>3</th>\n",
       "      <td>99</td>\n",
       "      <td>10</td>\n",
       "    </tr>\n",
       "    <tr>\n",
       "      <th>4</th>\n",
       "      <td>129</td>\n",
       "      <td>12</td>\n",
       "    </tr>\n",
       "    <tr>\n",
       "      <th>5</th>\n",
       "      <td>178</td>\n",
       "      <td>20</td>\n",
       "    </tr>\n",
       "    <tr>\n",
       "      <th>6</th>\n",
       "      <td>209</td>\n",
       "      <td>26</td>\n",
       "    </tr>\n",
       "  </tbody>\n",
       "</table>\n",
       "</div>"
      ],
      "text/plain": [
       "     x   y\n",
       "0    7  13\n",
       "1   31  10\n",
       "2   61   9\n",
       "3   99  10\n",
       "4  129  12\n",
       "5  178  20\n",
       "6  209  26"
      ]
     },
     "execution_count": 2,
     "metadata": {},
     "output_type": "execute_result"
    }
   ],
   "source": [
    "df = pd.DataFrame({\"x\":[7, 31, 61, 99, 129, 178, 209],\n",
    "                   \"y\":[13, 10, 9, 10, 12, 20, 26]})\n",
    "df"
   ]
  },
  {
   "cell_type": "markdown",
   "metadata": {},
   "source": [
    "Теоретическое уравнение регрессии Y на Х будем искать в виде $y=ax^{2}+bx+c$\n",
    "\n",
    "Неизвестные параметры a, b, c будем находить из системы линейных уравнений\n",
    "\n",
    "$\\begin{cases} a \\sum x^{4}_{i} + b \\sum x^{3}_{i} + c \\sum x^{2}_{i} = \\sum x^{2}_{i} y_{i} \\\\ a \\sum x^{3}_{i} + b \\sum x^{2}_{i} + c \\sum x_{i} = \\sum x_{i} y_{i} \\\\ a \\sum x^{2}_{i} + b \\sum x_{i} + cn = \\sum y_{i} \\end{cases}$\n",
    "\n",
    "Для определения коэффициентов этой системы составим расчетную таблицу"
   ]
  },
  {
   "cell_type": "code",
   "execution_count": 4,
   "metadata": {},
   "outputs": [
    {
     "data": {
      "text/plain": [
       "7"
      ]
     },
     "execution_count": 4,
     "metadata": {},
     "output_type": "execute_result"
    }
   ],
   "source": [
    "df[\"x^4\"] = df.x ** 4\n",
    "df[\"x^3\"] = df.x ** 3\n",
    "df[\"x^2\"] = df.x ** 2\n",
    "df[\"x^2y\"] = df[\"x^2\"] * df.y\n",
    "df[\"xy\"] = df.x * df.y\n",
    "n = df.x.size\n",
    "n"
   ]
  },
  {
   "cell_type": "code",
   "execution_count": 5,
   "metadata": {},
   "outputs": [
    {
     "data": {
      "text/html": [
       "<div>\n",
       "<style scoped>\n",
       "    .dataframe tbody tr th:only-of-type {\n",
       "        vertical-align: middle;\n",
       "    }\n",
       "\n",
       "    .dataframe tbody tr th {\n",
       "        vertical-align: top;\n",
       "    }\n",
       "\n",
       "    .dataframe thead th {\n",
       "        text-align: right;\n",
       "    }\n",
       "</style>\n",
       "<table border=\"1\" class=\"dataframe\">\n",
       "  <thead>\n",
       "    <tr style=\"text-align: right;\">\n",
       "      <th></th>\n",
       "      <th>x</th>\n",
       "      <th>y</th>\n",
       "      <th>x^4</th>\n",
       "      <th>x^3</th>\n",
       "      <th>x^2</th>\n",
       "      <th>x^2y</th>\n",
       "      <th>xy</th>\n",
       "    </tr>\n",
       "  </thead>\n",
       "  <tbody>\n",
       "    <tr>\n",
       "      <th>0</th>\n",
       "      <td>7</td>\n",
       "      <td>13</td>\n",
       "      <td>2401</td>\n",
       "      <td>343</td>\n",
       "      <td>49</td>\n",
       "      <td>637</td>\n",
       "      <td>91</td>\n",
       "    </tr>\n",
       "    <tr>\n",
       "      <th>1</th>\n",
       "      <td>31</td>\n",
       "      <td>10</td>\n",
       "      <td>923521</td>\n",
       "      <td>29791</td>\n",
       "      <td>961</td>\n",
       "      <td>9610</td>\n",
       "      <td>310</td>\n",
       "    </tr>\n",
       "    <tr>\n",
       "      <th>2</th>\n",
       "      <td>61</td>\n",
       "      <td>9</td>\n",
       "      <td>13845841</td>\n",
       "      <td>226981</td>\n",
       "      <td>3721</td>\n",
       "      <td>33489</td>\n",
       "      <td>549</td>\n",
       "    </tr>\n",
       "    <tr>\n",
       "      <th>3</th>\n",
       "      <td>99</td>\n",
       "      <td>10</td>\n",
       "      <td>96059601</td>\n",
       "      <td>970299</td>\n",
       "      <td>9801</td>\n",
       "      <td>98010</td>\n",
       "      <td>990</td>\n",
       "    </tr>\n",
       "    <tr>\n",
       "      <th>4</th>\n",
       "      <td>129</td>\n",
       "      <td>12</td>\n",
       "      <td>276922881</td>\n",
       "      <td>2146689</td>\n",
       "      <td>16641</td>\n",
       "      <td>199692</td>\n",
       "      <td>1548</td>\n",
       "    </tr>\n",
       "    <tr>\n",
       "      <th>5</th>\n",
       "      <td>178</td>\n",
       "      <td>20</td>\n",
       "      <td>1003875856</td>\n",
       "      <td>5639752</td>\n",
       "      <td>31684</td>\n",
       "      <td>633680</td>\n",
       "      <td>3560</td>\n",
       "    </tr>\n",
       "    <tr>\n",
       "      <th>6</th>\n",
       "      <td>209</td>\n",
       "      <td>26</td>\n",
       "      <td>1908029761</td>\n",
       "      <td>9129329</td>\n",
       "      <td>43681</td>\n",
       "      <td>1135706</td>\n",
       "      <td>5434</td>\n",
       "    </tr>\n",
       "  </tbody>\n",
       "</table>\n",
       "</div>"
      ],
      "text/plain": [
       "     x   y         x^4      x^3    x^2     x^2y    xy\n",
       "0    7  13        2401      343     49      637    91\n",
       "1   31  10      923521    29791    961     9610   310\n",
       "2   61   9    13845841   226981   3721    33489   549\n",
       "3   99  10    96059601   970299   9801    98010   990\n",
       "4  129  12   276922881  2146689  16641   199692  1548\n",
       "5  178  20  1003875856  5639752  31684   633680  3560\n",
       "6  209  26  1908029761  9129329  43681  1135706  5434"
      ]
     },
     "execution_count": 5,
     "metadata": {},
     "output_type": "execute_result"
    }
   ],
   "source": [
    "df"
   ]
  },
  {
   "cell_type": "code",
   "execution_count": 9,
   "metadata": {},
   "outputs": [
    {
     "name": "stdout",
     "output_type": "stream",
     "text": [
      "sum_x_4 =  3299659862\n",
      "sum_x_3 =  18143184\n",
      "sum_x_2 =  106538\n",
      "sum_x_2_y =  2110824\n",
      "sum_xy =  12482\n",
      "sum_x =  714\n",
      "sum_y =  100\n"
     ]
    }
   ],
   "source": [
    "sum_x_4 = df[\"x^4\"].sum()\n",
    "print('sum_x_4 = ', sum_x_4)\n",
    "sum_x_3 = df[\"x^3\"].sum()\n",
    "print('sum_x_3 = ', sum_x_3)\n",
    "sum_x_2 = df[\"x^2\"].sum()\n",
    "print('sum_x_2 = ', sum_x_2)\n",
    "sum_x_2_y = df[\"x^2y\"].sum()\n",
    "print('sum_x_2_y = ', sum_x_2_y)\n",
    "sum_xy = df[\"xy\"].sum()\n",
    "print('sum_xy = ', sum_xy)\n",
    "sum_x = df.x.sum()\n",
    "print('sum_x = ', sum_x)\n",
    "sum_y = df.y.sum()\n",
    "print('sum_y = ', sum_y)"
   ]
  },
  {
   "cell_type": "markdown",
   "metadata": {},
   "source": [
    "В результате получим систему:\n",
    "\n",
    "$\\begin{cases} 3299659862 a + 18143184 b + 106538 c = 2110824 \\\\ 18143184 a + 106538 b + 714 c = 12482 \\\\ 106538 a + 714 b + 7 c = 100 \\end{cases}$\n",
    "\n",
    "```\n",
    "sum_x_4 * a + sum_x_3 * b + sum_x_2 * c = sum_x_2_y \n",
    "\n",
    "sum_x_3 * a + sum_x_2 * b + sum_x * c = sum_xy \n",
    "\n",
    "sum_x_2 * a + sum_x * b + n * c = sum_y\n",
    "```\n"
   ]
  },
  {
   "cell_type": "code",
   "execution_count": 12,
   "metadata": {},
   "outputs": [
    {
     "name": "stdout",
     "output_type": "stream",
     "text": [
      "a =  0.0008949034925079104\n",
      "b =  -0.12546999233946152\n",
      "c =  13.46347803508111\n"
     ]
    }
   ],
   "source": [
    "a = (sum_x_2_y - (sum_x_2 * sum_y)/n - (sum_x_3 - (sum_x_2 * sum_x)/n)*sum_xy/ (sum_x_2 - (sum_x *sum_x)/n) + (sum_x_3 - (sum_x_2 * sum_x)/n)*(sum_x * sum_y)/n/ (sum_x_2 - (sum_x *sum_x)/n)) / (sum_x_4 - (sum_x_2 * sum_x_2)/n - (sum_x_3 - (sum_x_2 * sum_x)/n)*(sum_x_3 - (sum_x * sum_x_2)/n)/(sum_x_2 - (sum_x *sum_x)/n))\n",
    "\n",
    "print('a = ', a)\n",
    "\n",
    "b = (sum_xy - (sum_x * sum_y)/n - a*(sum_x_3 - (sum_x * sum_x_2)/n)) / (sum_x_2 - (sum_x *sum_x)/n)\n",
    "print('b = ', b)\n",
    "\n",
    "c = (sum_y - (sum_x * b + sum_x_2 * a)) / n\n",
    "print('c = ', c)"
   ]
  },
  {
   "cell_type": "markdown",
   "metadata": {},
   "source": [
    "$\\begin{cases} a \\approx 0,0009 \\\\ b \\approx -0,1255 \\\\ c \\approx 13,4635 \\end{cases}$\n",
    "\n",
    "Получили теоретическое уравнение регрессии: \n",
    "$ y = 0,0009 x^{2} - 0,1255 x + 13,4635 $"
   ]
  },
  {
   "cell_type": "code",
   "execution_count": 25,
   "metadata": {},
   "outputs": [],
   "source": [
    "import matplotlib.pyplot as plt\n",
    "%matplotlib inline\n",
    "\n",
    "import seaborn as sns"
   ]
  },
  {
   "cell_type": "markdown",
   "metadata": {},
   "source": [
    "Создадим DataFrame y_trq результаты из полученного уравнения.\n",
    "Построим график:"
   ]
  },
  {
   "cell_type": "code",
   "execution_count": 50,
   "metadata": {},
   "outputs": [
    {
     "data": {
      "text/html": [
       "<div>\n",
       "<style scoped>\n",
       "    .dataframe tbody tr th:only-of-type {\n",
       "        vertical-align: middle;\n",
       "    }\n",
       "\n",
       "    .dataframe tbody tr th {\n",
       "        vertical-align: top;\n",
       "    }\n",
       "\n",
       "    .dataframe thead th {\n",
       "        text-align: right;\n",
       "    }\n",
       "</style>\n",
       "<table border=\"1\" class=\"dataframe\">\n",
       "  <thead>\n",
       "    <tr style=\"text-align: right;\">\n",
       "      <th></th>\n",
       "      <th>x</th>\n",
       "      <th>y_trq</th>\n",
       "      <th>y</th>\n",
       "    </tr>\n",
       "  </thead>\n",
       "  <tbody>\n",
       "    <tr>\n",
       "      <th>0</th>\n",
       "      <td>7</td>\n",
       "      <td>12.6291</td>\n",
       "      <td>13</td>\n",
       "    </tr>\n",
       "    <tr>\n",
       "      <th>1</th>\n",
       "      <td>31</td>\n",
       "      <td>10.4379</td>\n",
       "      <td>10</td>\n",
       "    </tr>\n",
       "    <tr>\n",
       "      <th>2</th>\n",
       "      <td>61</td>\n",
       "      <td>9.1569</td>\n",
       "      <td>9</td>\n",
       "    </tr>\n",
       "    <tr>\n",
       "      <th>3</th>\n",
       "      <td>99</td>\n",
       "      <td>9.8599</td>\n",
       "      <td>10</td>\n",
       "    </tr>\n",
       "    <tr>\n",
       "      <th>4</th>\n",
       "      <td>129</td>\n",
       "      <td>12.2509</td>\n",
       "      <td>12</td>\n",
       "    </tr>\n",
       "    <tr>\n",
       "      <th>5</th>\n",
       "      <td>178</td>\n",
       "      <td>19.6401</td>\n",
       "      <td>20</td>\n",
       "    </tr>\n",
       "    <tr>\n",
       "      <th>6</th>\n",
       "      <td>209</td>\n",
       "      <td>26.5469</td>\n",
       "      <td>26</td>\n",
       "    </tr>\n",
       "  </tbody>\n",
       "</table>\n",
       "</div>"
      ],
      "text/plain": [
       "     x    y_trq   y\n",
       "0    7  12.6291  13\n",
       "1   31  10.4379  10\n",
       "2   61   9.1569   9\n",
       "3   99   9.8599  10\n",
       "4  129  12.2509  12\n",
       "5  178  19.6401  20\n",
       "6  209  26.5469  26"
      ]
     },
     "execution_count": 50,
     "metadata": {},
     "output_type": "execute_result"
    }
   ],
   "source": [
    "df_trq = pd.DataFrame()\n",
    "df_trq[\"x\"] = df.x\n",
    "df_trq[\"y_trq\"] = [0.0009 * x ** 2 - 0.1255 * x + 13.4635 for x in df.x]\n",
    "df_trq[\"y\"] = df.y\n",
    "df_trq"
   ]
  },
  {
   "cell_type": "code",
   "execution_count": 55,
   "metadata": {},
   "outputs": [
    {
     "data": {
      "text/plain": [
       "<matplotlib.axes._subplots.AxesSubplot at 0x7fa2a4eac8d0>"
      ]
     },
     "execution_count": 55,
     "metadata": {},
     "output_type": "execute_result"
    },
    {
     "data": {
      "image/png": "[encoded data removed]",
      "text/plain": [
       "<Figure size 720x504 with 1 Axes>"
      ]
     },
     "metadata": {
      "needs_background": "light"
     },
     "output_type": "display_data"
    }
   ],
   "source": [
    "plt.figure(figsize=(10,7))\n",
    "sns.lineplot(data=df_trq, markers=True, dashes=False)\n"
   ]
  },
  {
   "cell_type": "code",
   "execution_count": null,
   "metadata": {},
   "outputs": [],
   "source": []
  },
  {
   "cell_type": "code",
   "execution_count": null,
   "metadata": {},
   "outputs": [],
   "source": []
  }
 ],
 "metadata": {
  "kernelspec": {
   "display_name": "Python 3",
   "language": "python",
   "name": "python3"
  },
  "language_info": {
   "codemirror_mode": {
    "name": "ipython",
    "version": 3
   },
   "file_extension": ".py",
   "mimetype": "text/x-python",
   "name": "python",
   "nbconvert_exporter": "python",
   "pygments_lexer": "ipython3",
   "version": "3.7.3"
  }
 },
 "nbformat": 4,
 "nbformat_minor": 4
}
