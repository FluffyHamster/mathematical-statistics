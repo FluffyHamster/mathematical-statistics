{
 "cells": [
  {
   "cell_type": "markdown",
   "metadata": {},
   "source": [
    "# Example 2\n",
    "\n",
    "Методом максимального правдоподобия найти точечную оценку параметра λ по данной выборке\n",
    "```\n",
    "Х: 1-3| 3-5| 5-7| 7-9| 9-11| 11-13| 13-15| 15-17| 17-19\n",
    "n: 5  | 6  | 7  | 15 | 22  | 27   | 30   | 34   | 35\n",
    "```\n",
    "при условии, что соответствующая непрерывная случайная величина имеет плотность распределения f(x)=λexp(λ(x−20)),x≤20.\n"
   ]
  },
  {
   "cell_type": "code",
   "execution_count": 1,
   "metadata": {},
   "outputs": [],
   "source": [
    "import pandas as pd"
   ]
  },
  {
   "cell_type": "code",
   "execution_count": 2,
   "metadata": {},
   "outputs": [
    {
     "data": {
      "text/html": [
       "<div>\n",
       "<style scoped>\n",
       "    .dataframe tbody tr th:only-of-type {\n",
       "        vertical-align: middle;\n",
       "    }\n",
       "\n",
       "    .dataframe tbody tr th {\n",
       "        vertical-align: top;\n",
       "    }\n",
       "\n",
       "    .dataframe thead th {\n",
       "        text-align: right;\n",
       "    }\n",
       "</style>\n",
       "<table border=\"1\" class=\"dataframe\">\n",
       "  <thead>\n",
       "    <tr style=\"text-align: right;\">\n",
       "      <th></th>\n",
       "      <th>X</th>\n",
       "      <th>n</th>\n",
       "    </tr>\n",
       "  </thead>\n",
       "  <tbody>\n",
       "    <tr>\n",
       "      <th>0</th>\n",
       "      <td>[1, 2, 3]</td>\n",
       "      <td>5</td>\n",
       "    </tr>\n",
       "    <tr>\n",
       "      <th>1</th>\n",
       "      <td>[3, 4, 5]</td>\n",
       "      <td>6</td>\n",
       "    </tr>\n",
       "    <tr>\n",
       "      <th>2</th>\n",
       "      <td>[5, 6, 7]</td>\n",
       "      <td>7</td>\n",
       "    </tr>\n",
       "    <tr>\n",
       "      <th>3</th>\n",
       "      <td>[7, 8, 9]</td>\n",
       "      <td>15</td>\n",
       "    </tr>\n",
       "    <tr>\n",
       "      <th>4</th>\n",
       "      <td>[9, 10, 11]</td>\n",
       "      <td>22</td>\n",
       "    </tr>\n",
       "    <tr>\n",
       "      <th>5</th>\n",
       "      <td>[11, 12, 13]</td>\n",
       "      <td>27</td>\n",
       "    </tr>\n",
       "    <tr>\n",
       "      <th>6</th>\n",
       "      <td>[13, 14, 15]</td>\n",
       "      <td>30</td>\n",
       "    </tr>\n",
       "    <tr>\n",
       "      <th>7</th>\n",
       "      <td>[15, 16, 17]</td>\n",
       "      <td>34</td>\n",
       "    </tr>\n",
       "    <tr>\n",
       "      <th>8</th>\n",
       "      <td>[17, 18, 19]</td>\n",
       "      <td>35</td>\n",
       "    </tr>\n",
       "  </tbody>\n",
       "</table>\n",
       "</div>"
      ],
      "text/plain": [
       "              X   n\n",
       "0     [1, 2, 3]   5\n",
       "1     [3, 4, 5]   6\n",
       "2     [5, 6, 7]   7\n",
       "3     [7, 8, 9]  15\n",
       "4   [9, 10, 11]  22\n",
       "5  [11, 12, 13]  27\n",
       "6  [13, 14, 15]  30\n",
       "7  [15, 16, 17]  34\n",
       "8  [17, 18, 19]  35"
      ]
     },
     "execution_count": 2,
     "metadata": {},
     "output_type": "execute_result"
    }
   ],
   "source": [
    "df = pd.DataFrame({\"X\":[[1,2,3], [3,4,5], [5,6,7], [7,8,9], [9,10,11], [11,12,13], [13,14,15], [15,16,17], [17,18,19]],\n",
    "                  \"n\": [5, 6, 7, 15, 22, 27, 30, 34, 35]})\n",
    "df"
   ]
  },
  {
   "cell_type": "markdown",
   "metadata": {},
   "source": [
    "при условии, что соответствующая непрерывная случайная величина имеет плотность распределения\n",
    "$ f(x) = \\begin{cases} \\lambda \\exp[\\lambda(x-20)], x \\leq 20 \\\\ 0 , x > 20 \\end{cases}$"
   ]
  },
  {
   "cell_type": "markdown",
   "metadata": {},
   "source": [
    "Всего провели *n* испытаний и разбили их на *k* классов"
   ]
  },
  {
   "cell_type": "code",
   "execution_count": 4,
   "metadata": {},
   "outputs": [
    {
     "data": {
      "text/plain": [
       "181"
      ]
     },
     "execution_count": 4,
     "metadata": {},
     "output_type": "execute_result"
    }
   ],
   "source": [
    "n = df.n.sum()\n",
    "n"
   ]
  },
  {
   "cell_type": "code",
   "execution_count": 6,
   "metadata": {},
   "outputs": [
    {
     "data": {
      "text/plain": [
       "9"
      ]
     },
     "execution_count": 6,
     "metadata": {},
     "output_type": "execute_result"
    }
   ],
   "source": [
    "k = df.X.size\n",
    "k"
   ]
  },
  {
   "cell_type": "markdown",
   "metadata": {},
   "source": [
    "ф-я правдоподобия имеет следующий вид $L = \\prod^{181}_{i=1} f(x_{i}) = \\lambda^{181} e^{\\lambda \\sum^{181}_{i=1}x_{i} - 3620\\lambda}$\n",
    "\n",
    "Найдем логарифмическую функцию правдоподобия: $\\ln L = 181 \\ln \\lambda + \\lambda \\sum^{181}_{i=1}x_{i} - 3620\\lambda$\n",
    "\n",
    "Найдем первую производную по $\\lambda$ : $\\dfrac{d\\ln L}{d \\lambda} = \\dfrac{181}{\\lambda} + \\sum^{181}_{i=1}x_{i} - 3620$ \n",
    "\n",
    "Напишем уравнение правдоподобия, для чего приравняем первую производную к нулю: $\\dfrac{181}{\\lambda} + \\sum^{181}_{i=1}x_{i} - 3620 = 0$\n",
    "\n",
    "Найдем критическую точку, для чего решим полученное уравнение относительно $\\lambda$: $\\lambda = \\dfrac{1}{20 - \\overline{x_{B}}}$\n",
    "\n",
    "Найдем вторую производную по $\\lambda$: $\\dfrac{d^{2}\\ln L}{d \\lambda^{2}} = - \\dfrac{181}{\\lambda^{2}}$\n",
    "\n",
    "вторая производная отрицательная следовательно $\\lambda = \\dfrac{1}{20 - \\overline{x_{B}}}$ точка максимума и, значит, в качестве оценки\n",
    "максимального правдоподобия параметра  $\\lambda$ надо принять величину $\\dfrac{1}{20 - \\overline{x_{B}}}$ "
   ]
  },
  {
   "cell_type": "markdown",
   "metadata": {},
   "source": [
    "в качестве $x_{i}$ среднее значение в интервале"
   ]
  },
  {
   "cell_type": "code",
   "execution_count": 18,
   "metadata": {},
   "outputs": [],
   "source": [
    "df[\"x_in_i\"] = [df.X[i][1] * df.n[i] for i in df.index ]"
   ]
  },
  {
   "cell_type": "code",
   "execution_count": 19,
   "metadata": {},
   "outputs": [
    {
     "data": {
      "text/html": [
       "<div>\n",
       "<style scoped>\n",
       "    .dataframe tbody tr th:only-of-type {\n",
       "        vertical-align: middle;\n",
       "    }\n",
       "\n",
       "    .dataframe tbody tr th {\n",
       "        vertical-align: top;\n",
       "    }\n",
       "\n",
       "    .dataframe thead th {\n",
       "        text-align: right;\n",
       "    }\n",
       "</style>\n",
       "<table border=\"1\" class=\"dataframe\">\n",
       "  <thead>\n",
       "    <tr style=\"text-align: right;\">\n",
       "      <th></th>\n",
       "      <th>X</th>\n",
       "      <th>n</th>\n",
       "      <th>x_in_i</th>\n",
       "    </tr>\n",
       "  </thead>\n",
       "  <tbody>\n",
       "    <tr>\n",
       "      <th>0</th>\n",
       "      <td>[1, 2, 3]</td>\n",
       "      <td>5</td>\n",
       "      <td>10</td>\n",
       "    </tr>\n",
       "    <tr>\n",
       "      <th>1</th>\n",
       "      <td>[3, 4, 5]</td>\n",
       "      <td>6</td>\n",
       "      <td>24</td>\n",
       "    </tr>\n",
       "    <tr>\n",
       "      <th>2</th>\n",
       "      <td>[5, 6, 7]</td>\n",
       "      <td>7</td>\n",
       "      <td>42</td>\n",
       "    </tr>\n",
       "    <tr>\n",
       "      <th>3</th>\n",
       "      <td>[7, 8, 9]</td>\n",
       "      <td>15</td>\n",
       "      <td>120</td>\n",
       "    </tr>\n",
       "    <tr>\n",
       "      <th>4</th>\n",
       "      <td>[9, 10, 11]</td>\n",
       "      <td>22</td>\n",
       "      <td>220</td>\n",
       "    </tr>\n",
       "    <tr>\n",
       "      <th>5</th>\n",
       "      <td>[11, 12, 13]</td>\n",
       "      <td>27</td>\n",
       "      <td>324</td>\n",
       "    </tr>\n",
       "    <tr>\n",
       "      <th>6</th>\n",
       "      <td>[13, 14, 15]</td>\n",
       "      <td>30</td>\n",
       "      <td>420</td>\n",
       "    </tr>\n",
       "    <tr>\n",
       "      <th>7</th>\n",
       "      <td>[15, 16, 17]</td>\n",
       "      <td>34</td>\n",
       "      <td>544</td>\n",
       "    </tr>\n",
       "    <tr>\n",
       "      <th>8</th>\n",
       "      <td>[17, 18, 19]</td>\n",
       "      <td>35</td>\n",
       "      <td>630</td>\n",
       "    </tr>\n",
       "  </tbody>\n",
       "</table>\n",
       "</div>"
      ],
      "text/plain": [
       "              X   n  x_in_i\n",
       "0     [1, 2, 3]   5      10\n",
       "1     [3, 4, 5]   6      24\n",
       "2     [5, 6, 7]   7      42\n",
       "3     [7, 8, 9]  15     120\n",
       "4   [9, 10, 11]  22     220\n",
       "5  [11, 12, 13]  27     324\n",
       "6  [13, 14, 15]  30     420\n",
       "7  [15, 16, 17]  34     544\n",
       "8  [17, 18, 19]  35     630"
      ]
     },
     "execution_count": 19,
     "metadata": {},
     "output_type": "execute_result"
    }
   ],
   "source": [
    "df"
   ]
  },
  {
   "cell_type": "code",
   "execution_count": 20,
   "metadata": {},
   "outputs": [
    {
     "data": {
      "text/plain": [
       "12.895027624309392"
      ]
     },
     "execution_count": 20,
     "metadata": {},
     "output_type": "execute_result"
    }
   ],
   "source": [
    "x_B = 1 / n * df.x_in_i.sum()\n",
    "x_B"
   ]
  },
  {
   "cell_type": "code",
   "execution_count": 21,
   "metadata": {},
   "outputs": [
    {
     "data": {
      "text/plain": [
       "0.14074650077760498"
      ]
     },
     "execution_count": 21,
     "metadata": {},
     "output_type": "execute_result"
    }
   ],
   "source": [
    "lambda_ = 1 / (20 - x_B)\n",
    "lambda_"
   ]
  },
  {
   "cell_type": "markdown",
   "metadata": {},
   "source": [
    "точечную оценку параметра $\\lambda \\approx 0,141$"
   ]
  },
  {
   "cell_type": "code",
   "execution_count": null,
   "metadata": {},
   "outputs": [],
   "source": []
  }
 ],
 "metadata": {
  "kernelspec": {
   "display_name": "Python 3",
   "language": "python",
   "name": "python3"
  },
  "language_info": {
   "codemirror_mode": {
    "name": "ipython",
    "version": 3
   },
   "file_extension": ".py",
   "mimetype": "text/x-python",
   "name": "python",
   "nbconvert_exporter": "python",
   "pygments_lexer": "ipython3",
   "version": "3.7.3"
  }
 },
 "nbformat": 4,
 "nbformat_minor": 4
}
