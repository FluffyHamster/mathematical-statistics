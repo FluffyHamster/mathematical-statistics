{
 "cells": [
  {
   "cell_type": "markdown",
   "metadata": {},
   "source": [
    "# Доверительный интервал для среднего квадратического отклонения нормального распределения (использование таблицы квантилей $\\chi^{2}_{\\alpha, n}$ распределения $\\chi^{2}_{n}$\n",
    "\n",
    "Для оценки параметра нормального распределеннной случайной величины была создана выборка из 30 единиц и вычеслено S = 1,5. Найдите доверительный интервал, покрывающий $\\sigma$ с вероятностью $\\gamma = 0,90$.\n",
    "\n",
    "Решение:\n",
    "\n",
    "n = 30\n",
    "$\\gamma = 0,90$\n",
    "\n",
    "по таблице находим:\n",
    "\n",
    "$\\chi^{2}_{1} = 17,7$\n",
    "\n",
    "$\\chi^{2}_{2} = 42,6$\n",
    "\n",
    "Доверительный интервал:\n",
    "\n",
    "$(\\dfrac{\\sqrt{n-1} \\cdot S}{\\chi_{2}}; \\dfrac{\\sqrt{n-1} \\cdot S}{\\chi_{1}})$"
   ]
  },
  {
   "cell_type": "code",
   "execution_count": 2,
   "metadata": {},
   "outputs": [
    {
     "name": "stdout",
     "output_type": "stream",
     "text": [
      "( 1.2376146980563336 ;  1.9200105931911158 )\n"
     ]
    }
   ],
   "source": [
    "import math\n",
    "n = 30\n",
    "S = 1.5\n",
    "x_2_1 = 17.7\n",
    "x_2_2 = 42.6\n",
    "a = math.sqrt(n - 1) * S / math.sqrt(x_2_2)\n",
    "b = math.sqrt(n - 1) * S / math.sqrt(x_2_1)\n",
    "\n",
    "print(\"(\",a, \"; \",b, \")\")"
   ]
  },
  {
   "cell_type": "markdown",
   "metadata": {},
   "source": [
    "Получаем:\n",
    "\n",
    "$1,238 < \\sigma < 1,92$"
   ]
  },
  {
   "cell_type": "code",
   "execution_count": null,
   "metadata": {},
   "outputs": [],
   "source": []
  }
 ],
 "metadata": {
  "kernelspec": {
   "display_name": "Python 3",
   "language": "python",
   "name": "python3"
  },
  "language_info": {
   "codemirror_mode": {
    "name": "ipython",
    "version": 3
   },
   "file_extension": ".py",
   "mimetype": "text/x-python",
   "name": "python",
   "nbconvert_exporter": "python",
   "pygments_lexer": "ipython3",
   "version": "3.7.3"
  }
 },
 "nbformat": 4,
 "nbformat_minor": 4
}
